{
 "cells": [
  {
   "cell_type": "code",
   "execution_count": 12,
   "metadata": {},
   "outputs": [],
   "source": [
    "#  Import modules\n",
    "from PIL import Image\n",
    "import random\n",
    "\n",
    "# list of filepath to individual image layers\n",
    "img_layer_1 = [\n",
    "    r'./space/space1.png',\n",
    "    r'./space/space2.png',\n",
    "    r'./space/space3.png',\n",
    "    r'./space/space4.png',\n",
    "]\n",
    "img_layer_2 = [\n",
    "    r'./body/body1.png',\n",
    "    r'./body/body2.png',\n",
    "    r'./body/body3.png',\n",
    "    r'./body/body4.png',\n",
    "]\n",
    "img_layer_3 = [\n",
    "    r'./eyes/eyes1.png',\n",
    "    r'./eyes/eyes2.png',\n",
    "    r'./eyes/eyes3.png',\n",
    "    r'./eyes/eyes4.png'\n",
    "]\n",
    "img_layer_4 = [\n",
    "    r'./mouth/mouth1.png',\n",
    "    r'./mouth/mouth2.png',\n",
    "    r'./mouth/mouth3.png',\n",
    "    r'./mouth/mouth4.png'\n",
    "]\n",
    "\n",
    "nft_metadata = []\n",
    "colletion_size = 40\n",
    "nft_number = 0\n",
    "\n",
    "while nft_number < colletion_size:\n",
    "# randomize choice of all 4 layers\n",
    "    l1 = random.choice(img_layer_1)\n",
    "    l2 = random.choice(img_layer_2)\n",
    "    l3 = random.choice(img_layer_3)\n",
    "    l4 = random.choice(img_layer_4)\n",
    "\n",
    "# check if combinations of layers exists in nft_metadata\n",
    "    layer_combination = l1 + l2 + l3 + l4\n",
    "    if layer_combination not in nft_metadata:\n",
    "    \n",
    "# randomize choice of layers with weights\n",
    "        # body = random.choices(bodys, weights = (10, 10, 10, 70))[0]\n",
    "        # eye = random.choices(eyes, weights = (5, 35, 15, 45))[0]\n",
    "        # mouth = random.choices(mouths, weights = (20, 40, 10, 30))[0]\n",
    "\n",
    "# compile layer_1 and layer_2 and sotring it as variable \"l1_l2\"\n",
    "        layer_1 = Image.open(l1)\n",
    "        layer_2 = Image.open(l2)\n",
    "        l1_l2 = Image.alpha_composite(layer_1, layer_2)\n",
    "\n",
    "# compile \"l1_l2\" with layer_3 and storing it as \"l1_l2_l3\"\n",
    "        layer_3 = Image.open(l3)\n",
    "        l1_l2_l3 = Image.alpha_composite(l1_l2, layer_3)\n",
    "\n",
    "# compile \"l1_l2_l3\" with layer_4 and storing as final_nft\n",
    "        layer_4 = Image.open(l4)\n",
    "        final_nft = Image.alpha_composite(l1_l2_l3, layer_4)\n",
    "\n",
    "# exporting \"final_nft\" as a .png file\n",
    "        nft_number += 1\n",
    "        file_extension = '.png'\n",
    "        file_name = str(nft_number) + file_extension\n",
    "        final_nft.save(file_name)\n",
    "        nft_metadata.append(layer_combination)\n"
   ]
  },
  {
   "cell_type": "code",
   "execution_count": 13,
   "metadata": {},
   "outputs": [],
   "source": [
    "i = 0\n",
    "p = '.png'\n",
    "for i in range(10):\n",
    "    name = str(i) + p\n",
    "    # print(name)"
   ]
  },
  {
   "cell_type": "code",
   "execution_count": 50,
   "metadata": {},
   "outputs": [
    {
     "name": "stdout",
     "output_type": "stream",
     "text": [
      "['C3E5L12N14', 'D4G7L12P16', 'B2H8K11N14', 'D4E5K11N14']\n"
     ]
    }
   ],
   "source": [
    "import random\n",
    "i = 0\n",
    "n = 4\n",
    "l1 = ['A1', 'B2', 'C3', 'D4']\n",
    "l2 = ['E5', 'F6', 'G7', 'H8']\n",
    "l3 = ['I9', 'J10', 'K11', 'L12']\n",
    "l4 = ['M13', 'N14', 'O15', 'P16']\n",
    "\n",
    "meta_data = []\n",
    "\n",
    "while i < n:\n",
    "    data1 = random.choice(l1)\n",
    "    data2 = random.choice(l2)\n",
    "    data3 = random.choice(l3)\n",
    "    data4 = random.choice(l4)\n",
    "    data = data1 + data2 + data3 + data4\n",
    "    if data not in meta_data:\n",
    "        meta_data.append(data)\n",
    "    i += 1\n",
    "\n",
    "print(meta_data)"
   ]
  },
  {
   "cell_type": "code",
   "execution_count": 11,
   "metadata": {},
   "outputs": [
    {
     "ename": "TypeError",
     "evalue": "combinations() missing required argument 'r' (pos 2)",
     "output_type": "error",
     "traceback": [
      "\u001b[0;31m---------------------------------------------------------------------------\u001b[0m",
      "\u001b[0;31mTypeError\u001b[0m                                 Traceback (most recent call last)",
      "\u001b[0;32m/var/folders/wx/13s0x3dx7js1glvvgkht18hc0000gn/T/ipykernel_22904/2894742684.py\u001b[0m in \u001b[0;36m<module>\u001b[0;34m\u001b[0m\n\u001b[1;32m      1\u001b[0m \u001b[0;32mfrom\u001b[0m \u001b[0mitertools\u001b[0m \u001b[0;32mimport\u001b[0m \u001b[0mcombinations\u001b[0m\u001b[0;34m\u001b[0m\u001b[0;34m\u001b[0m\u001b[0m\n\u001b[1;32m      2\u001b[0m \u001b[0;34m\u001b[0m\u001b[0m\n\u001b[0;32m----> 3\u001b[0;31m \u001b[0mcomb\u001b[0m \u001b[0;34m=\u001b[0m \u001b[0mcombinations\u001b[0m\u001b[0;34m(\u001b[0m\u001b[0;34m[\u001b[0m\u001b[0;34m'A1'\u001b[0m\u001b[0;34m,\u001b[0m \u001b[0;34m'B2'\u001b[0m\u001b[0;34m,\u001b[0m \u001b[0;34m'C3'\u001b[0m\u001b[0;34m,\u001b[0m \u001b[0;34m'D4'\u001b[0m\u001b[0;34m]\u001b[0m\u001b[0;34m)\u001b[0m\u001b[0;34m\u001b[0m\u001b[0;34m\u001b[0m\u001b[0m\n\u001b[0m\u001b[1;32m      4\u001b[0m \u001b[0;34m\u001b[0m\u001b[0m\n\u001b[1;32m      5\u001b[0m \u001b[0mn\u001b[0m \u001b[0;34m=\u001b[0m \u001b[0;36m0\u001b[0m\u001b[0;34m\u001b[0m\u001b[0;34m\u001b[0m\u001b[0m\n",
      "\u001b[0;31mTypeError\u001b[0m: combinations() missing required argument 'r' (pos 2)"
     ]
    }
   ],
   "source": [
    "from itertools import combinations\n",
    "\n",
    "comb = combinations(['A1', 'B2', 'C3', 'D4'])\n",
    "\n",
    "n = 0\n",
    "for i in list(comb):\n",
    "    n += 1\n",
    "    # print(n)\n",
    "    # print(i)\n",
    "\n",
    "print(n)"
   ]
  },
  {
   "cell_type": "code",
   "execution_count": null,
   "metadata": {},
   "outputs": [],
   "source": [
    "['A1', 'B2', 'C3', 'D4'], ['E5', 'F6', 'G7', 'H8'], ['I9', 'J10', 'K11', 'L12'], ['M13', 'N14', 'O15', 'P16']"
   ]
  }
 ],
 "metadata": {
  "interpreter": {
   "hash": "d1dc82ec79607fb69d4e7ae9348e75ce7107ead6da324cf595282c005bbb80c5"
  },
  "kernelspec": {
   "display_name": "Python 3.9.7 64-bit ('nft': conda)",
   "language": "python",
   "name": "python3"
  },
  "language_info": {
   "codemirror_mode": {
    "name": "ipython",
    "version": 3
   },
   "file_extension": ".py",
   "mimetype": "text/x-python",
   "name": "python",
   "nbconvert_exporter": "python",
   "pygments_lexer": "ipython3",
   "version": "3.9.7"
  },
  "orig_nbformat": 4
 },
 "nbformat": 4,
 "nbformat_minor": 2
}
