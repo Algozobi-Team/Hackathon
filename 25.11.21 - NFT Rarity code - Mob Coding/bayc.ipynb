{
 "cells": [
  {
   "cell_type": "code",
   "execution_count": 54,
   "metadata": {},
   "outputs": [],
   "source": [
    "from PIL import Image\n",
    "import random"
   ]
  },
  {
   "cell_type": "code",
   "execution_count": 96,
   "metadata": {},
   "outputs": [],
   "source": [
    "spaces = [\n",
    "    r'./space/s1.png',\n",
    "    r'./space/s2.png',\n",
    "    r'./space/s3.png',\n",
    "    r'./space/s4.png',\n",
    "]\n",
    "\n",
    "bodys = [\n",
    "    r'./body/b1.png',\n",
    "    r'./body/b2.png',\n",
    "    r'./body/b3.png',\n",
    "    r'./body/b4.png',\n",
    "]\n",
    "eyes = [\n",
    "    r'./eyes/e1.png',\n",
    "    r'./eyes/e2.png',\n",
    "    r'./eyes/e3.png',\n",
    "    r'./eyes/e4.png'\n",
    "]\n",
    "mouths = [\n",
    "    r'./mouth/m1.png',\n",
    "    r'./mouth/m2.png',\n",
    "    r'./mouth/m3.png',\n",
    "    r'./mouth/m4.png'\n",
    "]\n",
    "\n",
    "n = 20\n",
    "i = 0\n",
    "\n",
    "\n",
    "while i < n:\n",
    "    space = random.choice(spaces)\n",
    "    body = random.choice(bodys)\n",
    "    eye = random.choice(eyes)\n",
    "    mouth = random.choice(mouths)\n",
    "    # body = random.choices(bodys, weights = (10, 10, 10, 70))[0]\n",
    "    # eye = random.choices(eyes, weights = (5, 35, 15, 45))[0]\n",
    "    # mouth = random.choices(mouths, weights = (20, 40, 10, 30))[0]\n",
    "    img1 = Image.open(space)\n",
    "    img2 = Image.open(body)\n",
    "    intermediate = Image.alpha_composite(img1, img2)\n",
    "    img3 = Image.open(eye)\n",
    "    intermediate2 = Image.alpha_composite(intermediate, img3)\n",
    "    img4 = Image.open(mouth)\n",
    "    final = Image.alpha_composite(intermediate2, img4)\n",
    "    i += 1\n",
    "\n",
    "    p = '.png'\n",
    "    name = str(i) + p\n",
    "\n",
    "    \n",
    "    final.save(name)\n",
    "\n"
   ]
  },
  {
   "cell_type": "code",
   "execution_count": 89,
   "metadata": {},
   "outputs": [
    {
     "name": "stdout",
     "output_type": "stream",
     "text": [
      "0.png\n",
      "1.png\n",
      "2.png\n",
      "3.png\n",
      "4.png\n",
      "5.png\n",
      "6.png\n",
      "7.png\n",
      "8.png\n",
      "9.png\n"
     ]
    }
   ],
   "source": [
    "i = 0\n",
    "p = '.png'\n",
    "\n",
    "for i in range(10):\n",
    "    name = str(i) + p\n",
    "    print(name)\n"
   ]
  },
  {
   "cell_type": "code",
   "execution_count": null,
   "metadata": {},
   "outputs": [],
   "source": []
  }
 ],
 "metadata": {
  "interpreter": {
   "hash": "d1dc82ec79607fb69d4e7ae9348e75ce7107ead6da324cf595282c005bbb80c5"
  },
  "kernelspec": {
   "display_name": "Python 3.9.7 64-bit ('nft': conda)",
   "language": "python",
   "name": "python3"
  },
  "language_info": {
   "codemirror_mode": {
    "name": "ipython",
    "version": 3
   },
   "file_extension": ".py",
   "mimetype": "text/x-python",
   "name": "python",
   "nbconvert_exporter": "python",
   "pygments_lexer": "ipython3",
   "version": "3.9.7"
  },
  "orig_nbformat": 4
 },
 "nbformat": 4,
 "nbformat_minor": 2
}
