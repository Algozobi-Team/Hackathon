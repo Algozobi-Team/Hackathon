{
 "cells": [
  {
   "cell_type": "code",
   "execution_count": 54,
   "metadata": {},
   "outputs": [],
   "source": [
    "from PIL import Image\n",
    "import random"
   ]
  },
  {
   "cell_type": "code",
   "execution_count": 4,
   "metadata": {},
   "outputs": [],
   "source": [
    "#  Import modules\n",
    "from PIL import Image\n",
    "import random\n",
    "\n",
    "# list of filepath to individual image layers\n",
    "img_layer_1 = [\n",
    "    r'./space/space1.png',\n",
    "    r'./space/space2.png',\n",
    "    r'./space/space3.png',\n",
    "    r'./space/space4.png',\n",
    "]\n",
    "\n",
    "img_layer_2 = [\n",
    "    r'./body/body1.png',\n",
    "    r'./body/body2.png',\n",
    "    r'./body/body3.png',\n",
    "    r'./body/body4.png',\n",
    "]\n",
    "img_layer_3 = [\n",
    "    r'./eyes/eyes1.png',\n",
    "    r'./eyes/eyes2.png',\n",
    "    r'./eyes/eyes3.png',\n",
    "    r'./eyes/eyes4.png'\n",
    "]\n",
    "img_layer_4 = [\n",
    "    r'./mouth/mouth1.png',\n",
    "    r'./mouth/mouth2.png',\n",
    "    r'./mouth/mouth3.png',\n",
    "    r'./mouth/mouth4.png'\n",
    "]\n",
    "\n",
    "\n",
    "colletion_size = 2\n",
    "nft_number = 0\n",
    "file_extension = '.png'\n",
    "\n",
    "while nft_number < colletion_size:\n",
    "# randomize choice of all 4 layers\n",
    "    l1 = random.choice(img_layer_1)\n",
    "    l2 = random.choice(img_layer_2)\n",
    "    l3 = random.choice(img_layer_3)\n",
    "    l4 = random.choice(img_layer_4)\n",
    "\n",
    "# randomize choice of layers with weights\n",
    "    # body = random.choices(bodys, weights = (10, 10, 10, 70))[0]\n",
    "    # eye = random.choices(eyes, weights = (5, 35, 15, 45))[0]\n",
    "    # mouth = random.choices(mouths, weights = (20, 40, 10, 30))[0]\n",
    "\n",
    "# compile layer_1 and layer_2 and sotring it as variable \"l1_l2\"\n",
    "    layer_1 = Image.open(l1)\n",
    "    layer_2 = Image.open(l2)\n",
    "    l1_l2 = Image.alpha_composite(layer_1, layer_2)\n",
    "\n",
    "# compile \"l1_l2\" with layer_3 and storing it as \"l1_l2_l3\"\n",
    "    layer_3 = Image.open(l3)\n",
    "    l1_l2_l3 = Image.alpha_composite(l1_l2, layer_3)\n",
    "\n",
    "# compile \"l1_l2_l3\" with layer_4 and storing as final_nft\n",
    "    layer_4 = Image.open(l4)\n",
    "    final_nft = Image.alpha_composite(l1_l2_l3, layer_4)\n",
    "\n",
    "# exporting \"final_nft\" as a .png file\n",
    "    nft_number += 1\n",
    "    file_name = str(nft_number) + file_extension\n",
    "    final_nft.save(file_name)\n",
    "\n"
   ]
  },
  {
   "cell_type": "code",
   "execution_count": 89,
   "metadata": {},
   "outputs": [
    {
     "name": "stdout",
     "output_type": "stream",
     "text": [
      "0.png\n",
      "1.png\n",
      "2.png\n",
      "3.png\n",
      "4.png\n",
      "5.png\n",
      "6.png\n",
      "7.png\n",
      "8.png\n",
      "9.png\n"
     ]
    }
   ],
   "source": [
    "i = 0\n",
    "p = '.png'\n",
    "\n",
    "for i in range(10):\n",
    "    name = str(i) + p\n",
    "    print(name)\n"
   ]
  },
  {
   "cell_type": "code",
   "execution_count": null,
   "metadata": {},
   "outputs": [],
   "source": []
  }
 ],
 "metadata": {
  "interpreter": {
   "hash": "d1dc82ec79607fb69d4e7ae9348e75ce7107ead6da324cf595282c005bbb80c5"
  },
  "kernelspec": {
   "display_name": "Python 3.9.7 64-bit ('nft': conda)",
   "language": "python",
   "name": "python3"
  },
  "language_info": {
   "codemirror_mode": {
    "name": "ipython",
    "version": 3
   },
   "file_extension": ".py",
   "mimetype": "text/x-python",
   "name": "python",
   "nbconvert_exporter": "python",
   "pygments_lexer": "ipython3",
   "version": "3.9.7"
  },
  "orig_nbformat": 4
 },
 "nbformat": 4,
 "nbformat_minor": 2
}
