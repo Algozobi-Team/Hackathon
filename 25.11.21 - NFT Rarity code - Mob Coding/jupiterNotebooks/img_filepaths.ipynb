{
 "cells": [
  {
   "cell_type": "code",
   "execution_count": 1,
   "metadata": {},
   "outputs": [
    {
     "name": "stdout",
     "output_type": "stream",
     "text": [
      "Image folder list created: ['1_space', '2_body', '3_eyes', '4_mouth']\n",
      "Images filename list created: ['space2.png', 'space3.png', 'space1.png', 'space4.png']\n",
      "Images filename list created: ['body4.png', 'body2.png', 'body3.png', 'body1.png']\n",
      "Images filename list created: ['eyes1.png', 'eyes2.png', 'eyes3.png', 'eyes4.png']\n",
      "Images filename list created: ['mouth4.png', 'mouth2.png', 'mouth3.png', 'mouth1.png']\n",
      "FINISHED -- file_paths.json -- CREATED\n"
     ]
    }
   ],
   "source": [
    "# --------------------------PEP-8 line limit--------------------------72\n",
    "# This program is a pipline that creates a .json file containing filepaths\n",
    "# from all images in the in the \"img_layers\" folder\n",
    "# --------------------------PEP-8 line limit--------------------------72\n",
    "\n",
    "from os import listdir\n",
    "from os.path import isfile, join\n",
    "import json\n",
    "\n",
    "# dictionary with file paths\n",
    "file_paths = {}\n",
    "\n",
    "# list of img directory\n",
    "def dir_list(dir):\n",
    "    onlydir = [f for f in listdir(dir)]\n",
    "    return onlydir\n",
    "\n",
    "# list och folder names\n",
    "img_folder_list = dir_list('./img_layers')\n",
    "img_folder_list.sort()\n",
    "# remove .DS_Store file in mac OS folders\n",
    "if '.DS_Store' in img_folder_list:\n",
    "    img_folder_list.remove('.DS_Store')\n",
    "print('Image folder list created: ' + str(img_folder_list))\n",
    "\n",
    "# # list of file paths\n",
    "def file_list(dir):\n",
    "    onlyfiles = [f for f in listdir(dir) if isfile(join(dir, f))]\n",
    "    # remove .DS_Store file in mac OS folders   \n",
    "    if '.DS_Store' in onlyfiles:\n",
    "        onlyfiles.remove('.DS_Store')\n",
    "    print('Images filename list created: ' + str(onlyfiles))\n",
    "    return onlyfiles\n",
    "\n",
    "# create filepath string for each image in folders\n",
    "def file_path_string(file, file_path_format):\n",
    "    temporay_list = []\n",
    "    for i in range(len(file)):\n",
    "        file_path = file_path_format + '/' + file[i]\n",
    "        temporay_list.append(file_path)\n",
    "    return temporay_list\n",
    "\n",
    "# create dictionary of all filepaths\n",
    "def create_dict(folder_list):\n",
    "    for i in range(len(folder_list)):\n",
    "        file_path_format = './img_layers/' + folder_list[i]\n",
    "        file = file_list(file_path_format)\n",
    "        temporay_list = file_path_string(file, file_path_format)\n",
    "        # print(temp_list)\n",
    "        file_paths[folder_list[i]] = temporay_list\n",
    "        \n",
    "\n",
    "create_dict(img_folder_list)\n",
    "\n",
    "\n",
    "# write file paths to .json file\n",
    "with open('./src/filepaths.json', 'w') as file:\n",
    "    json.dump(file_paths, file, indent=4)\n",
    "\n",
    "print('FINISHED -- file_paths.json -- CREATED')\n",
    "\n",
    "# --------------------------PEP-8 line limit--------------------------72\n"
   ]
  }
 ],
 "metadata": {
  "interpreter": {
   "hash": "d1dc82ec79607fb69d4e7ae9348e75ce7107ead6da324cf595282c005bbb80c5"
  },
  "kernelspec": {
   "display_name": "Python 3.9.7 64-bit ('nft': conda)",
   "language": "python",
   "name": "python3"
  },
  "language_info": {
   "codemirror_mode": {
    "name": "ipython",
    "version": 3
   },
   "file_extension": ".py",
   "mimetype": "text/x-python",
   "name": "python",
   "nbconvert_exporter": "python",
   "pygments_lexer": "ipython3",
   "version": "3.9.7"
  },
  "orig_nbformat": 4
 },
 "nbformat": 4,
 "nbformat_minor": 2
}
